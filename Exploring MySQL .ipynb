{
 "cells": [
  {
   "cell_type": "code",
   "execution_count": 13,
   "metadata": {
    "collapsed": false
   },
   "outputs": [
    {
     "name": "stdout",
     "output_type": "stream",
     "text": [
      "Enter a number:5\n",
      "5\n",
      "10\n",
      "15\n",
      "20\n",
      "25\n",
      "30\n",
      "35\n",
      "40\n",
      "45\n",
      "50\n"
     ]
    }
   ],
   "source": [
    "num = int(input(\"Enter a number:\"))\n",
    "for i in range(1,11):\n",
    "    print(i * num)"
   ]
  },
  {
   "cell_type": "code",
   "execution_count": 26,
   "metadata": {
    "collapsed": false
   },
   "outputs": [
    {
     "name": "stdout",
     "output_type": "stream",
     "text": [
      "Enter a number:3\n",
      "Multiplication table of 3 is\n",
      "1 x 3= 3\n",
      "2 x 3= 6\n",
      "3 x 3= 9\n",
      "4 x 3= 12\n",
      "5 x 3= 15\n",
      "6 x 3= 18\n",
      "7 x 3= 21\n",
      "8 x 3= 24\n",
      "9 x 3= 27\n",
      "10 x 3= 30\n",
      "11 x 3= 33\n",
      "12 x 3= 36\n",
      "13 x 3= 39\n",
      "14 x 3= 42\n",
      "15 x 3= 45\n",
      "16 x 3= 48\n",
      "17 x 3= 51\n",
      "18 x 3= 54\n",
      "19 x 3= 57\n",
      "20 x 3= 60\n"
     ]
    }
   ],
   "source": [
    "num = int(input(\"Enter a number:\"))\n",
    "print(f\"Multiplication table of {num} is\")\n",
    "for i in range(1,21):\n",
    "    print(f\"{i} x {num}= {num * i}\")"
   ]
  },
  {
   "cell_type": "code",
   "execution_count": 33,
   "metadata": {
    "collapsed": false
   },
   "outputs": [
    {
     "name": "stdout",
     "output_type": "stream",
     "text": [
      "Enter a number:1\n",
      "\n",
      "1\n",
      "12\n",
      "123\n",
      "1234\n",
      "12345\n",
      "123456\n",
      "1234567\n",
      "12345678\n",
      "123456789\n"
     ]
    }
   ],
   "source": [
    "num = int(input(\"Enter a number:\"))\n",
    "for i in range(1,11):\n",
    "    for j in range(1,i):\n",
    "        print(j*num, end=\"\")\n",
    "    print()"
   ]
  },
  {
   "cell_type": "code",
   "execution_count": 38,
   "metadata": {
    "collapsed": false
   },
   "outputs": [
    {
     "name": "stdout",
     "output_type": "stream",
     "text": [
      "Enter a number:1\n",
      "\n",
      "12345678910\n",
      "2345678910\n",
      "345678910\n",
      "45678910\n",
      "5678910\n",
      "678910\n",
      "78910\n",
      "8910\n",
      "910\n",
      "10\n"
     ]
    }
   ],
   "source": [
    "num = int(input(\"Enter a number:\"))\n",
    "print()\n",
    "for i in range(1,11):\n",
    "    for j in range(i,11):\n",
    "        print(j*num, end=\"\")\n",
    "    print()"
   ]
  },
  {
   "cell_type": "code",
   "execution_count": 62,
   "metadata": {
    "collapsed": false
   },
   "outputs": [],
   "source": [
    "# num = int(input(\"Enter a number:\"))\n",
    "# for i in range(1,11):\n",
    "#     for j in range(1,num):\n",
    "#         print(i * j, end=\"\")\n",
    "#     print()"
   ]
  },
  {
   "cell_type": "code",
   "execution_count": 63,
   "metadata": {
    "collapsed": false,
    "scrolled": false
   },
   "outputs": [
    {
     "data": {
      "text/plain": [
       "'C:\\\\Users\\\\DS\\\\Documents\\\\Untitled Folder 1'"
      ]
     },
     "execution_count": 63,
     "metadata": {},
     "output_type": "execute_result"
    }
   ],
   "source": [
    "import os\n",
    "os.getcwd()"
   ]
  },
  {
   "cell_type": "code",
   "execution_count": null,
   "metadata": {
    "collapsed": true
   },
   "outputs": [],
   "source": []
  }
 ],
 "metadata": {
  "kernelspec": {
   "display_name": "Python 3",
   "language": "python",
   "name": "python3"
  },
  "language_info": {
   "codemirror_mode": {
    "name": "ipython",
    "version": 3
   },
   "file_extension": ".py",
   "mimetype": "text/x-python",
   "name": "python",
   "nbconvert_exporter": "python",
   "pygments_lexer": "ipython3",
   "version": "3.6.0"
  }
 },
 "nbformat": 4,
 "nbformat_minor": 2
}
